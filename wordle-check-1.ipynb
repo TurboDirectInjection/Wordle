{
 "cells": [
  {
   "cell_type": "code",
   "execution_count": 2,
   "id": "48dbbd8b",
   "metadata": {},
   "outputs": [
    {
     "name": "stdout",
     "output_type": "stream",
     "text": [
      "CATER\n",
      "CARET\n"
     ]
    }
   ],
   "source": [
    "from itertools import permutations\n",
    "import enchant\n",
    "\n",
    "dict = enchant.Dict(\"en_US\")\n",
    "\n",
    "word = ['T', 'R', 'A', 'C', 'E']\n",
    "p = permutations(word)\n",
    "\n",
    "# We know that each letter is used, but no letter is in the same place\n",
    "#  as in TRACE\n",
    "for perm in p:\n",
    "    # Check each position in the word to see if a letter matches betweeen\n",
    "    #  our guess permutation and TRACE\n",
    "    matches = [word[i] == perm[i] for i in range(0, len(word))]\n",
    "    \n",
    "    # If so, ignore this solution\n",
    "    if any(matches):\n",
    "        continue\n",
    "    \n",
    "    # If not, see if this word is a real English word and print it\n",
    "    str = \"\"\n",
    "    perm_string = str.join(perm)\n",
    "    if (dict.check(perm_string)): \n",
    "        print(perm_string)"
   ]
  },
  {
   "cell_type": "code",
   "execution_count": null,
   "id": "0e6dbc16",
   "metadata": {},
   "outputs": [],
   "source": []
  }
 ],
 "metadata": {
  "kernelspec": {
   "display_name": "Python 3 (ipykernel)",
   "language": "python",
   "name": "python3"
  },
  "language_info": {
   "codemirror_mode": {
    "name": "ipython",
    "version": 3
   },
   "file_extension": ".py",
   "mimetype": "text/x-python",
   "name": "python",
   "nbconvert_exporter": "python",
   "pygments_lexer": "ipython3",
   "version": "3.9.7"
  }
 },
 "nbformat": 4,
 "nbformat_minor": 5
}
